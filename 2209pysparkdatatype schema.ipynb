{
 "cells": [
  {
   "cell_type": "code",
   "execution_count": 1,
   "id": "54d93caa",
   "metadata": {},
   "outputs": [
    {
     "name": "stderr",
     "output_type": "stream",
     "text": [
      "Setting default log level to \"WARN\".\n",
      "To adjust logging level use sc.setLogLevel(newLevel). For SparkR, use setLogLevel(newLevel).\n",
      "23/09/22 04:25:23 WARN NativeCodeLoader: Unable to load native-hadoop library for your platform... using builtin-java classes where applicable\n"
     ]
    }
   ],
   "source": [
    "from pyspark.sql.types import *\n",
    "import findspark\n",
    "findspark.init()\n",
    "from pyspark.sql import SparkSession\n",
    "spark=SparkSession.builder.appName(\"example\").getOrCreate()"
   ]
  },
  {
   "cell_type": "code",
   "execution_count": 2,
   "id": "5613b88a",
   "metadata": {},
   "outputs": [],
   "source": [
    "data=[(1,\"a\",30),(2,\"b\",32)]\n",
    "user_schema=StructType([StructField(\"id\",IntegerType()),\n",
    "                        StructField(\"name\",StringType()),\n",
    "                        StructField(\"age\",IntegerType())\n",
    "])\n",
    "df=spark.createDataFrame(data,user_schema)"
   ]
  },
  {
   "cell_type": "code",
   "execution_count": 3,
   "id": "9d13b936",
   "metadata": {},
   "outputs": [
    {
     "name": "stderr",
     "output_type": "stream",
     "text": [
      "                                                                                \r"
     ]
    },
    {
     "name": "stdout",
     "output_type": "stream",
     "text": [
      "+---+----+---+\n",
      "| id|name|age|\n",
      "+---+----+---+\n",
      "|  1|   a| 30|\n",
      "|  2|   b| 32|\n",
      "+---+----+---+\n",
      "\n"
     ]
    }
   ],
   "source": [
    "df.show()"
   ]
  },
  {
   "cell_type": "code",
   "execution_count": 4,
   "id": "a5203e81",
   "metadata": {},
   "outputs": [],
   "source": [
    "data2=[\n",
    "    (1,\"Alice\",[\"Reading\",\"Hiking\"]),\n",
    "    (2,\"Bob\",[\"Swimming\",\"Gardening\",\"Painting\"]),\n",
    "    (3,\"Charlie\",[\"Cooking\"]),\n",
    "    (4, \"David\", [\"Photography\", \"Skiing\", \"Cooking\"])\n",
    "    \n",
    "]"
   ]
  },
  {
   "cell_type": "code",
   "execution_count": 7,
   "id": "66c00c87",
   "metadata": {},
   "outputs": [],
   "source": [
    "user_schema2=StructType([StructField(\"id\",IntegerType()),\n",
    "                        StructField(\"name\",StringType()),\n",
    "                        StructField(\"Hobby\",ArrayType(StringType()))\n",
    "])"
   ]
  },
  {
   "cell_type": "code",
   "execution_count": 8,
   "id": "d6054bcf",
   "metadata": {},
   "outputs": [],
   "source": [
    "df2=spark.createDataFrame(data2,user_schema2)"
   ]
  },
  {
   "cell_type": "code",
   "execution_count": 9,
   "id": "254b2ae2",
   "metadata": {},
   "outputs": [
    {
     "name": "stdout",
     "output_type": "stream",
     "text": [
      "+---+-------+--------------------+\n",
      "| id|   name|               Hobby|\n",
      "+---+-------+--------------------+\n",
      "|  1|  Alice|   [Reading, Hiking]|\n",
      "|  2|    Bob|[Swimming, Garden...|\n",
      "|  3|Charlie|           [Cooking]|\n",
      "|  4|  David|[Photography, Ski...|\n",
      "+---+-------+--------------------+\n",
      "\n"
     ]
    }
   ],
   "source": [
    "df2.show()"
   ]
  },
  {
   "cell_type": "code",
   "execution_count": 10,
   "id": "b0251761",
   "metadata": {},
   "outputs": [],
   "source": [
    "from pyspark.sql.functions import *"
   ]
  },
  {
   "cell_type": "code",
   "execution_count": 13,
   "id": "71baae46",
   "metadata": {},
   "outputs": [
    {
     "name": "stdout",
     "output_type": "stream",
     "text": [
      "+---+-------+-----------+\n",
      "| id|   name|        col|\n",
      "+---+-------+-----------+\n",
      "|  1|  Alice|    Reading|\n",
      "|  1|  Alice|     Hiking|\n",
      "|  2|    Bob|   Swimming|\n",
      "|  2|    Bob|  Gardening|\n",
      "|  2|    Bob|   Painting|\n",
      "|  3|Charlie|    Cooking|\n",
      "|  4|  David|Photography|\n",
      "|  4|  David|     Skiing|\n",
      "|  4|  David|    Cooking|\n",
      "+---+-------+-----------+\n",
      "\n"
     ]
    }
   ],
   "source": [
    "df2.select(\"id\",\"name\",explode(\"Hobby\")).show()#used to send data in different row"
   ]
  },
  {
   "cell_type": "code",
   "execution_count": 15,
   "id": "af207abb",
   "metadata": {},
   "outputs": [
    {
     "name": "stdout",
     "output_type": "stream",
     "text": [
      "+---+-------+--------------------+-----------+\n",
      "| id|   name|               Hobby|   newHobby|\n",
      "+---+-------+--------------------+-----------+\n",
      "|  1|  Alice|   [Reading, Hiking]|    Reading|\n",
      "|  1|  Alice|   [Reading, Hiking]|     Hiking|\n",
      "|  2|    Bob|[Swimming, Garden...|   Swimming|\n",
      "|  2|    Bob|[Swimming, Garden...|  Gardening|\n",
      "|  2|    Bob|[Swimming, Garden...|   Painting|\n",
      "|  3|Charlie|           [Cooking]|    Cooking|\n",
      "|  4|  David|[Photography, Ski...|Photography|\n",
      "|  4|  David|[Photography, Ski...|     Skiing|\n",
      "|  4|  David|[Photography, Ski...|    Cooking|\n",
      "+---+-------+--------------------+-----------+\n",
      "\n"
     ]
    }
   ],
   "source": [
    "df2.withColumn(\"newHobby\",explode(\"Hobby\")).show()"
   ]
  },
  {
   "cell_type": "code",
   "execution_count": 20,
   "id": "0a2c896a",
   "metadata": {},
   "outputs": [
    {
     "name": "stdout",
     "output_type": "stream",
     "text": [
      "+---+-------+-----------+-----------------------+\n",
      "|id |name   |Hobby      |ingestion_date         |\n",
      "+---+-------+-----------+-----------------------+\n",
      "|1  |Alice  |Reading    |2023-09-22 04:49:30.822|\n",
      "|1  |Alice  |Hiking     |2023-09-22 04:49:30.822|\n",
      "|2  |Bob    |Swimming   |2023-09-22 04:49:30.822|\n",
      "|2  |Bob    |Gardening  |2023-09-22 04:49:30.822|\n",
      "|2  |Bob    |Painting   |2023-09-22 04:49:30.822|\n",
      "|3  |Charlie|Cooking    |2023-09-22 04:49:30.822|\n",
      "|4  |David  |Photography|2023-09-22 04:49:30.822|\n",
      "|4  |David  |Skiing     |2023-09-22 04:49:30.822|\n",
      "|4  |David  |Cooking    |2023-09-22 04:49:30.822|\n",
      "+---+-------+-----------+-----------------------+\n",
      "\n"
     ]
    }
   ],
   "source": [
    "df3=df2.withColumn(\"Hobby\",explode(\"Hobby\")).withColumn(\"ingestion_date\",current_timestamp()).show(truncate=False)\n",
    "    #hobby is same so data overwrite  and no new column is created and changes is made to original column"
   ]
  },
  {
   "cell_type": "code",
   "execution_count": null,
   "id": "d4b7a94e",
   "metadata": {},
   "outputs": [],
   "source": []
  }
 ],
 "metadata": {
  "kernelspec": {
   "display_name": "Python 3 (ipykernel)",
   "language": "python",
   "name": "python3"
  },
  "language_info": {
   "codemirror_mode": {
    "name": "ipython",
    "version": 3
   },
   "file_extension": ".py",
   "mimetype": "text/x-python",
   "name": "python",
   "nbconvert_exporter": "python",
   "pygments_lexer": "ipython3",
   "version": "3.11.4"
  }
 },
 "nbformat": 4,
 "nbformat_minor": 5
}
