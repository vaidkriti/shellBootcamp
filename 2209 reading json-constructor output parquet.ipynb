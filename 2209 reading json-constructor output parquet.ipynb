{
 "cells": [
  {
   "cell_type": "code",
   "execution_count": 4,
   "id": "c2560124",
   "metadata": {},
   "outputs": [],
   "source": [
    "import findspark\n",
    "findspark.init()\n",
    "from pyspark.sql import SparkSession\n",
    "spark=SparkSession.builder.appName(\"example\").getOrCreate()"
   ]
  },
  {
   "cell_type": "code",
   "execution_count": 10,
   "id": "5f2e0be0",
   "metadata": {},
   "outputs": [],
   "source": [
    "from pyspark.sql.functions import *\n"
   ]
  },
  {
   "cell_type": "code",
   "execution_count": 11,
   "id": "d95bdc63",
   "metadata": {},
   "outputs": [],
   "source": [
    "input_files=\"/home/labuser/Downloads/\""
   ]
  },
  {
   "cell_type": "code",
   "execution_count": 12,
   "id": "fcdfc6ae",
   "metadata": {},
   "outputs": [],
   "source": [
    "df=spark.read.json(f\"{input_files}/constructors.json\")"
   ]
  },
  {
   "cell_type": "code",
   "execution_count": 13,
   "id": "097623ae",
   "metadata": {},
   "outputs": [
    {
     "name": "stdout",
     "output_type": "stream",
     "text": [
      "+-------------+--------------+-----------+-----------+--------------------+\n",
      "|constructorId|constructorRef|       name|nationality|                 url|\n",
      "+-------------+--------------+-----------+-----------+--------------------+\n",
      "|            1|       mclaren|    McLaren|    British|http://en.wikiped...|\n",
      "|            2|    bmw_sauber| BMW Sauber|     German|http://en.wikiped...|\n",
      "|            3|      williams|   Williams|    British|http://en.wikiped...|\n",
      "|            4|       renault|    Renault|     French|http://en.wikiped...|\n",
      "|            5|    toro_rosso| Toro Rosso|    Italian|http://en.wikiped...|\n",
      "|            6|       ferrari|    Ferrari|    Italian|http://en.wikiped...|\n",
      "|            7|        toyota|     Toyota|   Japanese|http://en.wikiped...|\n",
      "|            8|   super_aguri|Super Aguri|   Japanese|http://en.wikiped...|\n",
      "|            9|      red_bull|   Red Bull|   Austrian|http://en.wikiped...|\n",
      "|           10|   force_india|Force India|     Indian|http://en.wikiped...|\n",
      "|           11|         honda|      Honda|   Japanese|http://en.wikiped...|\n",
      "|           12|        spyker|     Spyker|      Dutch|http://en.wikiped...|\n",
      "|           13|           mf1|        MF1|    Russian|http://en.wikiped...|\n",
      "|           14|    spyker_mf1| Spyker MF1|      Dutch|http://en.wikiped...|\n",
      "|           15|        sauber|     Sauber|      Swiss|http://en.wikiped...|\n",
      "|           16|           bar|        BAR|    British|http://en.wikiped...|\n",
      "|           17|        jordan|     Jordan|      Irish|http://en.wikiped...|\n",
      "|           18|       minardi|    Minardi|    Italian|http://en.wikiped...|\n",
      "|           19|        jaguar|     Jaguar|    British|http://en.wikiped...|\n",
      "|           20|         prost|      Prost|     French|http://en.wikiped...|\n",
      "+-------------+--------------+-----------+-----------+--------------------+\n",
      "only showing top 20 rows\n",
      "\n"
     ]
    }
   ],
   "source": [
    "df.show()"
   ]
  },
  {
   "cell_type": "code",
   "execution_count": 14,
   "id": "6117b771",
   "metadata": {},
   "outputs": [],
   "source": [
    "df_final=df.withColumn(\"ingestion date\",current_timestamp()).withColumn(\"path\",input_file_name()).drop(\"url\")"
   ]
  },
  {
   "cell_type": "code",
   "execution_count": 15,
   "id": "9ed2b08e",
   "metadata": {},
   "outputs": [
    {
     "name": "stdout",
     "output_type": "stream",
     "text": [
      "+-------------+--------------+-----------+-----------+--------------------+--------------------+\n",
      "|constructorId|constructorRef|       name|nationality|      ingestion date|                path|\n",
      "+-------------+--------------+-----------+-----------+--------------------+--------------------+\n",
      "|            1|       mclaren|    McLaren|    British|2023-09-22 05:37:...|file:///home/labu...|\n",
      "|            2|    bmw_sauber| BMW Sauber|     German|2023-09-22 05:37:...|file:///home/labu...|\n",
      "|            3|      williams|   Williams|    British|2023-09-22 05:37:...|file:///home/labu...|\n",
      "|            4|       renault|    Renault|     French|2023-09-22 05:37:...|file:///home/labu...|\n",
      "|            5|    toro_rosso| Toro Rosso|    Italian|2023-09-22 05:37:...|file:///home/labu...|\n",
      "|            6|       ferrari|    Ferrari|    Italian|2023-09-22 05:37:...|file:///home/labu...|\n",
      "|            7|        toyota|     Toyota|   Japanese|2023-09-22 05:37:...|file:///home/labu...|\n",
      "|            8|   super_aguri|Super Aguri|   Japanese|2023-09-22 05:37:...|file:///home/labu...|\n",
      "|            9|      red_bull|   Red Bull|   Austrian|2023-09-22 05:37:...|file:///home/labu...|\n",
      "|           10|   force_india|Force India|     Indian|2023-09-22 05:37:...|file:///home/labu...|\n",
      "|           11|         honda|      Honda|   Japanese|2023-09-22 05:37:...|file:///home/labu...|\n",
      "|           12|        spyker|     Spyker|      Dutch|2023-09-22 05:37:...|file:///home/labu...|\n",
      "|           13|           mf1|        MF1|    Russian|2023-09-22 05:37:...|file:///home/labu...|\n",
      "|           14|    spyker_mf1| Spyker MF1|      Dutch|2023-09-22 05:37:...|file:///home/labu...|\n",
      "|           15|        sauber|     Sauber|      Swiss|2023-09-22 05:37:...|file:///home/labu...|\n",
      "|           16|           bar|        BAR|    British|2023-09-22 05:37:...|file:///home/labu...|\n",
      "|           17|        jordan|     Jordan|      Irish|2023-09-22 05:37:...|file:///home/labu...|\n",
      "|           18|       minardi|    Minardi|    Italian|2023-09-22 05:37:...|file:///home/labu...|\n",
      "|           19|        jaguar|     Jaguar|    British|2023-09-22 05:37:...|file:///home/labu...|\n",
      "|           20|         prost|      Prost|     French|2023-09-22 05:37:...|file:///home/labu...|\n",
      "+-------------+--------------+-----------+-----------+--------------------+--------------------+\n",
      "only showing top 20 rows\n",
      "\n"
     ]
    }
   ],
   "source": [
    "df_final.show()"
   ]
  },
  {
   "cell_type": "code",
   "execution_count": 19,
   "id": "d641c30d",
   "metadata": {},
   "outputs": [],
   "source": [
    "df_final=df_final.drop(\"path\")"
   ]
  },
  {
   "cell_type": "code",
   "execution_count": 23,
   "id": "cf144a90",
   "metadata": {},
   "outputs": [],
   "source": [
    "output_files=\"/home/labuser/Downloads/Constructer_parquet\""
   ]
  },
  {
   "cell_type": "code",
   "execution_count": 24,
   "id": "43ddbb0f",
   "metadata": {},
   "outputs": [
    {
     "ename": "AnalysisException",
     "evalue": "[PATH_ALREADY_EXISTS] Path file:/home/labuser/Downloads/Constructer_parquet already exists. Set mode as \"overwrite\" to overwrite the existing path.",
     "output_type": "error",
     "traceback": [
      "\u001b[0;31m---------------------------------------------------------------------------\u001b[0m",
      "\u001b[0;31mAnalysisException\u001b[0m                         Traceback (most recent call last)",
      "Cell \u001b[0;32mIn[24], line 1\u001b[0m\n\u001b[0;32m----> 1\u001b[0m df_final\u001b[38;5;241m.\u001b[39mwrite\u001b[38;5;241m.\u001b[39mparquet(\u001b[38;5;124mf\u001b[39m\u001b[38;5;124m\"\u001b[39m\u001b[38;5;132;01m{\u001b[39;00moutput_files\u001b[38;5;132;01m}\u001b[39;00m\u001b[38;5;124m\"\u001b[39m)\n",
      "File \u001b[0;32m/opt/anaconda3/lib/python3.11/site-packages/pyspark/sql/readwriter.py:1656\u001b[0m, in \u001b[0;36mDataFrameWriter.parquet\u001b[0;34m(self, path, mode, partitionBy, compression)\u001b[0m\n\u001b[1;32m   1654\u001b[0m     \u001b[38;5;28mself\u001b[39m\u001b[38;5;241m.\u001b[39mpartitionBy(partitionBy)\n\u001b[1;32m   1655\u001b[0m \u001b[38;5;28mself\u001b[39m\u001b[38;5;241m.\u001b[39m_set_opts(compression\u001b[38;5;241m=\u001b[39mcompression)\n\u001b[0;32m-> 1656\u001b[0m \u001b[38;5;28mself\u001b[39m\u001b[38;5;241m.\u001b[39m_jwrite\u001b[38;5;241m.\u001b[39mparquet(path)\n",
      "File \u001b[0;32m/opt/anaconda3/lib/python3.11/site-packages/py4j/java_gateway.py:1322\u001b[0m, in \u001b[0;36mJavaMember.__call__\u001b[0;34m(self, *args)\u001b[0m\n\u001b[1;32m   1316\u001b[0m command \u001b[38;5;241m=\u001b[39m proto\u001b[38;5;241m.\u001b[39mCALL_COMMAND_NAME \u001b[38;5;241m+\u001b[39m\\\n\u001b[1;32m   1317\u001b[0m     \u001b[38;5;28mself\u001b[39m\u001b[38;5;241m.\u001b[39mcommand_header \u001b[38;5;241m+\u001b[39m\\\n\u001b[1;32m   1318\u001b[0m     args_command \u001b[38;5;241m+\u001b[39m\\\n\u001b[1;32m   1319\u001b[0m     proto\u001b[38;5;241m.\u001b[39mEND_COMMAND_PART\n\u001b[1;32m   1321\u001b[0m answer \u001b[38;5;241m=\u001b[39m \u001b[38;5;28mself\u001b[39m\u001b[38;5;241m.\u001b[39mgateway_client\u001b[38;5;241m.\u001b[39msend_command(command)\n\u001b[0;32m-> 1322\u001b[0m return_value \u001b[38;5;241m=\u001b[39m get_return_value(\n\u001b[1;32m   1323\u001b[0m     answer, \u001b[38;5;28mself\u001b[39m\u001b[38;5;241m.\u001b[39mgateway_client, \u001b[38;5;28mself\u001b[39m\u001b[38;5;241m.\u001b[39mtarget_id, \u001b[38;5;28mself\u001b[39m\u001b[38;5;241m.\u001b[39mname)\n\u001b[1;32m   1325\u001b[0m \u001b[38;5;28;01mfor\u001b[39;00m temp_arg \u001b[38;5;129;01min\u001b[39;00m temp_args:\n\u001b[1;32m   1326\u001b[0m     \u001b[38;5;28;01mif\u001b[39;00m \u001b[38;5;28mhasattr\u001b[39m(temp_arg, \u001b[38;5;124m\"\u001b[39m\u001b[38;5;124m_detach\u001b[39m\u001b[38;5;124m\"\u001b[39m):\n",
      "File \u001b[0;32m/opt/anaconda3/lib/python3.11/site-packages/pyspark/errors/exceptions/captured.py:175\u001b[0m, in \u001b[0;36mcapture_sql_exception.<locals>.deco\u001b[0;34m(*a, **kw)\u001b[0m\n\u001b[1;32m    171\u001b[0m converted \u001b[38;5;241m=\u001b[39m convert_exception(e\u001b[38;5;241m.\u001b[39mjava_exception)\n\u001b[1;32m    172\u001b[0m \u001b[38;5;28;01mif\u001b[39;00m \u001b[38;5;129;01mnot\u001b[39;00m \u001b[38;5;28misinstance\u001b[39m(converted, UnknownException):\n\u001b[1;32m    173\u001b[0m     \u001b[38;5;66;03m# Hide where the exception came from that shows a non-Pythonic\u001b[39;00m\n\u001b[1;32m    174\u001b[0m     \u001b[38;5;66;03m# JVM exception message.\u001b[39;00m\n\u001b[0;32m--> 175\u001b[0m     \u001b[38;5;28;01mraise\u001b[39;00m converted \u001b[38;5;28;01mfrom\u001b[39;00m \u001b[38;5;28;01mNone\u001b[39;00m\n\u001b[1;32m    176\u001b[0m \u001b[38;5;28;01melse\u001b[39;00m:\n\u001b[1;32m    177\u001b[0m     \u001b[38;5;28;01mraise\u001b[39;00m\n",
      "\u001b[0;31mAnalysisException\u001b[0m: [PATH_ALREADY_EXISTS] Path file:/home/labuser/Downloads/Constructer_parquet already exists. Set mode as \"overwrite\" to overwrite the existing path."
     ]
    }
   ],
   "source": [
    "df_final.write.parquet(f\"{output_files}\")"
   ]
  },
  {
   "cell_type": "code",
   "execution_count": 26,
   "id": "d1aab9c7",
   "metadata": {},
   "outputs": [],
   "source": [
    "df_final.write.mode(\"overwrite\").parquet(f\"{output_files}\")#need to change because we have overwrite"
   ]
  },
  {
   "cell_type": "code",
   "execution_count": 27,
   "id": "6e315296",
   "metadata": {},
   "outputs": [],
   "source": [
    "df_final.write.mode(\"overwrite\").saveAsTable(\"constructor\")"
   ]
  },
  {
   "cell_type": "code",
   "execution_count": 28,
   "id": "e5541062",
   "metadata": {},
   "outputs": [
    {
     "name": "stdout",
     "output_type": "stream",
     "text": [
      "+-------------+--------------+-----------+-----------+--------------------+\n",
      "|constructorId|constructorRef|       name|nationality|      ingestion date|\n",
      "+-------------+--------------+-----------+-----------+--------------------+\n",
      "|            1|       mclaren|    McLaren|    British|2023-09-22 05:49:...|\n",
      "|            2|    bmw_sauber| BMW Sauber|     German|2023-09-22 05:49:...|\n",
      "|            3|      williams|   Williams|    British|2023-09-22 05:49:...|\n",
      "|            4|       renault|    Renault|     French|2023-09-22 05:49:...|\n",
      "|            5|    toro_rosso| Toro Rosso|    Italian|2023-09-22 05:49:...|\n",
      "|            6|       ferrari|    Ferrari|    Italian|2023-09-22 05:49:...|\n",
      "|            7|        toyota|     Toyota|   Japanese|2023-09-22 05:49:...|\n",
      "|            8|   super_aguri|Super Aguri|   Japanese|2023-09-22 05:49:...|\n",
      "|            9|      red_bull|   Red Bull|   Austrian|2023-09-22 05:49:...|\n",
      "|           10|   force_india|Force India|     Indian|2023-09-22 05:49:...|\n",
      "|           11|         honda|      Honda|   Japanese|2023-09-22 05:49:...|\n",
      "|           12|        spyker|     Spyker|      Dutch|2023-09-22 05:49:...|\n",
      "|           13|           mf1|        MF1|    Russian|2023-09-22 05:49:...|\n",
      "|           14|    spyker_mf1| Spyker MF1|      Dutch|2023-09-22 05:49:...|\n",
      "|           15|        sauber|     Sauber|      Swiss|2023-09-22 05:49:...|\n",
      "|           16|           bar|        BAR|    British|2023-09-22 05:49:...|\n",
      "|           17|        jordan|     Jordan|      Irish|2023-09-22 05:49:...|\n",
      "|           18|       minardi|    Minardi|    Italian|2023-09-22 05:49:...|\n",
      "|           19|        jaguar|     Jaguar|    British|2023-09-22 05:49:...|\n",
      "|           20|         prost|      Prost|     French|2023-09-22 05:49:...|\n",
      "+-------------+--------------+-----------+-----------+--------------------+\n",
      "only showing top 20 rows\n",
      "\n"
     ]
    }
   ],
   "source": [
    "df_final.show()"
   ]
  },
  {
   "cell_type": "code",
   "execution_count": 30,
   "id": "e4132530",
   "metadata": {},
   "outputs": [
    {
     "name": "stdout",
     "output_type": "stream",
     "text": [
      "+-------------+--------------+-----------+-----------+--------------------+\n",
      "|constructorId|constructorRef|       name|nationality|      ingestion date|\n",
      "+-------------+--------------+-----------+-----------+--------------------+\n",
      "|            1|       mclaren|    McLaren|    British|2023-09-22 05:45:...|\n",
      "|            2|    bmw_sauber| BMW Sauber|     German|2023-09-22 05:45:...|\n",
      "|            3|      williams|   Williams|    British|2023-09-22 05:45:...|\n",
      "|            4|       renault|    Renault|     French|2023-09-22 05:45:...|\n",
      "|            5|    toro_rosso| Toro Rosso|    Italian|2023-09-22 05:45:...|\n",
      "|            6|       ferrari|    Ferrari|    Italian|2023-09-22 05:45:...|\n",
      "|            7|        toyota|     Toyota|   Japanese|2023-09-22 05:45:...|\n",
      "|            8|   super_aguri|Super Aguri|   Japanese|2023-09-22 05:45:...|\n",
      "|            9|      red_bull|   Red Bull|   Austrian|2023-09-22 05:45:...|\n",
      "|           10|   force_india|Force India|     Indian|2023-09-22 05:45:...|\n",
      "|           11|         honda|      Honda|   Japanese|2023-09-22 05:45:...|\n",
      "|           12|        spyker|     Spyker|      Dutch|2023-09-22 05:45:...|\n",
      "|           13|           mf1|        MF1|    Russian|2023-09-22 05:45:...|\n",
      "|           14|    spyker_mf1| Spyker MF1|      Dutch|2023-09-22 05:45:...|\n",
      "|           15|        sauber|     Sauber|      Swiss|2023-09-22 05:45:...|\n",
      "|           16|           bar|        BAR|    British|2023-09-22 05:45:...|\n",
      "|           17|        jordan|     Jordan|      Irish|2023-09-22 05:45:...|\n",
      "|           18|       minardi|    Minardi|    Italian|2023-09-22 05:45:...|\n",
      "|           19|        jaguar|     Jaguar|    British|2023-09-22 05:45:...|\n",
      "|           20|         prost|      Prost|     French|2023-09-22 05:45:...|\n",
      "+-------------+--------------+-----------+-----------+--------------------+\n",
      "only showing top 20 rows\n",
      "\n"
     ]
    }
   ],
   "source": [
    "spark.sql(\"select * from constructor\").show()"
   ]
  },
  {
   "cell_type": "code",
   "execution_count": 29,
   "id": "8d127333",
   "metadata": {},
   "outputs": [
    {
     "name": "stdout",
     "output_type": "stream",
     "text": [
      "+-------------+--------------+-----------+-----------+--------------------+\n",
      "|constructorId|constructorRef|       name|nationality|      ingestion date|\n",
      "+-------------+--------------+-----------+-----------+--------------------+\n",
      "|           10|   force_india|Force India|     Indian|2023-09-22 05:45:...|\n",
      "+-------------+--------------+-----------+-----------+--------------------+\n",
      "\n"
     ]
    }
   ],
   "source": [
    "spark.sql(\"select * from constructor where constructorId=10\").show()"
   ]
  },
  {
   "cell_type": "code",
   "execution_count": 31,
   "id": "4598b8ac",
   "metadata": {},
   "outputs": [],
   "source": [
    "df_final.write.mode(\"overwrite\").option(\"path\",\"/home/labuser/Downloads/Constructer_parquet/construct_table\").saveAsTable(\"constructor\")"
   ]
  },
  {
   "cell_type": "code",
   "execution_count": 37,
   "id": "6cc53461",
   "metadata": {},
   "outputs": [],
   "source": [
    "df_ps=spark.read.option(\"multiline\",\"true\").json(\"/home/labuser/Downloads/pitstop.json\")"
   ]
  },
  {
   "cell_type": "code",
   "execution_count": 38,
   "id": "6fc11f7a",
   "metadata": {},
   "outputs": [
    {
     "name": "stdout",
     "output_type": "stream",
     "text": [
      "+--------+--------+---+------------+------+----+--------+\n",
      "|driverId|duration|lap|milliseconds|raceId|stop|    time|\n",
      "+--------+--------+---+------------+------+----+--------+\n",
      "|     153|  26.898|  1|       26898|   841|   1|17:05:23|\n",
      "|      30|  25.021|  1|       25021|   841|   1|17:05:52|\n",
      "|      17|  23.426| 11|       23426|   841|   1|17:20:48|\n",
      "|       4|  23.251| 12|       23251|   841|   1|17:22:34|\n",
      "|      13|  23.842| 13|       23842|   841|   1|17:24:10|\n",
      "|      22|  23.643| 13|       23643|   841|   1|17:24:29|\n",
      "|      20|  22.603| 14|       22603|   841|   1|17:25:17|\n",
      "|     814|  24.863| 14|       24863|   841|   1|17:26:03|\n",
      "|     816|  25.259| 14|       25259|   841|   1|17:26:50|\n",
      "|      67|  25.342| 15|       25342|   841|   1|17:27:34|\n",
      "|       2|  22.994| 15|       22994|   841|   1|17:27:41|\n",
      "|       1|  23.227| 16|       23227|   841|   1|17:28:24|\n",
      "|     808|  24.535| 16|       24535|   841|   1|17:28:39|\n",
      "|       3|  23.716| 16|       23716|   841|   1|17:29:00|\n",
      "|     155|  24.064| 16|       24064|   841|   1|17:29:06|\n",
      "|      16|  25.978| 16|       25978|   841|   1|17:29:08|\n",
      "|      15|  24.899| 16|       24899|   841|   1|17:29:49|\n",
      "|      18|  16.867| 17|       16867|   841|   1|17:30:24|\n",
      "|     153|  24.463| 17|       24463|   841|   2|17:31:06|\n",
      "|       5|  24.865| 17|       24865|   841|   1|17:31:11|\n",
      "+--------+--------+---+------------+------+----+--------+\n",
      "only showing top 20 rows\n",
      "\n"
     ]
    }
   ],
   "source": [
    "df_ps.show()"
   ]
  },
  {
   "cell_type": "code",
   "execution_count": 42,
   "id": "2635d6fa",
   "metadata": {
    "scrolled": true
   },
   "outputs": [
    {
     "name": "stdout",
     "output_type": "stream",
     "text": [
      "+--------+--------+---+------------+------+----+--------+\n",
      "|driverId|duration|lap|milliseconds|raceId|stop|    time|\n",
      "+--------+--------+---+------------+------+----+--------+\n",
      "|       1|  23.199| 36|       23199|   841|   2|17:59:29|\n",
      "|       1|  23.227| 16|       23227|   841|   1|17:28:24|\n",
      "|       2|  22.994| 15|       22994|   841|   1|17:27:41|\n",
      "|       2|  25.098| 30|       25098|   841|   2|17:51:32|\n",
      "|       3|  23.716| 16|       23716|   841|   1|17:29:00|\n",
      "|       4|  23.251| 12|       23251|   841|   1|17:22:34|\n",
      "|       4|  24.733| 27|       24733|   841|   2|17:46:04|\n",
      "|       5|  24.865| 17|       24865|   841|   1|17:31:11|\n",
      "|      10|  23.792| 18|       23792|   841|   1|17:33:02|\n",
      "|      13|  23.842| 13|       23842|   841|   1|17:24:10|\n",
      "|      13|    24.5| 31|       24500|   841|   2|17:52:28|\n",
      "|      15|  24.848| 37|       24848|   841|   2|18:03:55|\n",
      "|      15|  24.899| 16|       24899|   841|   1|17:29:49|\n",
      "|      16|  23.871| 37|       23871|   841|   2|18:02:15|\n",
      "|      16|  25.978| 16|       25978|   841|   1|17:29:08|\n",
      "|      17|   22.52| 26|       22520|   841|   2|17:44:29|\n",
      "|      17|  23.426| 11|       23426|   841|   1|17:20:48|\n",
      "|      18|  16.867| 17|       16867|   841|   1|17:30:24|\n",
      "|      18|  23.303| 19|       23303|   841|   2|17:33:53|\n",
      "|      18|  22.681| 37|       22681|   841|   3|18:01:49|\n",
      "+--------+--------+---+------------+------+----+--------+\n",
      "only showing top 20 rows\n",
      "\n"
     ]
    }
   ],
   "source": [
    "df_ps.drop_duplicates().sort(\"driverID\").show()"
   ]
  },
  {
   "cell_type": "code",
   "execution_count": 44,
   "id": "2b4c45ed",
   "metadata": {},
   "outputs": [
    {
     "data": {
      "text/plain": [
       "40"
      ]
     },
     "execution_count": 44,
     "metadata": {},
     "output_type": "execute_result"
    }
   ],
   "source": [
    "df_ps.count()#.count here it is action as it displays  also"
   ]
  },
  {
   "cell_type": "code",
   "execution_count": 43,
   "id": "64cdfb4e",
   "metadata": {},
   "outputs": [
    {
     "name": "stdout",
     "output_type": "stream",
     "text": [
      "+----+-----+\n",
      "|stop|count|\n",
      "+----+-----+\n",
      "|   1|   21|\n",
      "|   3|    3|\n",
      "|   2|   16|\n",
      "+----+-----+\n",
      "\n"
     ]
    }
   ],
   "source": [
    "df_ps.groupBy(\"stop\").count().show()#here .count is not  action because if we dont write.show then it is transformation as it dopesnt display anything  .read is a transformation"
   ]
  },
  {
   "cell_type": "code",
   "execution_count": 46,
   "id": "9e52f616",
   "metadata": {},
   "outputs": [
    {
     "data": {
      "image/png": "[encoded data removed]",
      "text/plain": [
       "<Figure size 500x700 with 1 Axes>"
      ]
     },
     "metadata": {},
     "output_type": "display_data"
    }
   ],
   "source": [
    "grouped_df = df_ps.groupBy('stop').count().orderBy('stop')\n",
    "import matplotlib.pyplot as plt\n",
    "pandas_df = grouped_df.toPandas()\n",
    "plt.figure(figsize=(5,7))\n",
    "plt.bar(pandas_df[\"stop\"].astype(str), pandas_df[\"count\"], color=\"Orange\", width=0.5)\n",
    "plt.xlabel(\"Stop\")\n",
    "plt.ylabel(\"Count\")\n",
    "plt.title(\"Count of Stops\")\n",
    "plt.show()"
   ]
  },
  {
   "cell_type": "code",
   "execution_count": 60,
   "id": "c4f4ce53",
   "metadata": {},
   "outputs": [
    {
     "name": "stdout",
     "output_type": "stream",
     "text": [
      "+-------------+--------------+-----------+-----------+--------------------+\n",
      "|constructorId|constructorRef|       name|nationality|      ingestion date|\n",
      "+-------------+--------------+-----------+-----------+--------------------+\n",
      "|            1|       mclaren|    McLaren|    British|2023-09-22 06:59:...|\n",
      "|            2|    bmw_sauber| BMW Sauber|     German|2023-09-22 06:59:...|\n",
      "|            3|      williams|   Williams|    British|2023-09-22 06:59:...|\n",
      "|            4|       renault|    Renault|     French|2023-09-22 06:59:...|\n",
      "|            5|    toro_rosso| Toro Rosso|    Italian|2023-09-22 06:59:...|\n",
      "|            6|       ferrari|    Ferrari|    Italian|2023-09-22 06:59:...|\n",
      "|            7|        toyota|     Toyota|   Japanese|2023-09-22 06:59:...|\n",
      "|            8|   super_aguri|Super Aguri|   Japanese|2023-09-22 06:59:...|\n",
      "|            9|      red_bull|   Red Bull|   Austrian|2023-09-22 06:59:...|\n",
      "|           10|   force_india|Force India|     Indian|2023-09-22 06:59:...|\n",
      "|           11|         honda|      Honda|   Japanese|2023-09-22 06:59:...|\n",
      "|           12|        spyker|     Spyker|      Dutch|2023-09-22 06:59:...|\n",
      "|           13|           mf1|        MF1|    Russian|2023-09-22 06:59:...|\n",
      "|           14|    spyker_mf1| Spyker MF1|      Dutch|2023-09-22 06:59:...|\n",
      "|           15|        sauber|     Sauber|      Swiss|2023-09-22 06:59:...|\n",
      "|           16|           bar|        BAR|    British|2023-09-22 06:59:...|\n",
      "|           17|        jordan|     Jordan|      Irish|2023-09-22 06:59:...|\n",
      "|           18|       minardi|    Minardi|    Italian|2023-09-22 06:59:...|\n",
      "|           19|        jaguar|     Jaguar|    British|2023-09-22 06:59:...|\n",
      "|           20|         prost|      Prost|     French|2023-09-22 06:59:...|\n",
      "+-------------+--------------+-----------+-----------+--------------------+\n",
      "only showing top 20 rows\n",
      "\n"
     ]
    }
   ],
   "source": [
    "df_final.show()"
   ]
  },
  {
   "cell_type": "code",
   "execution_count": 61,
   "id": "21b85051",
   "metadata": {},
   "outputs": [],
   "source": [
    "df_ps.write.mode(\"overwrite\").option(\"path\",\"/home/labuser/Downloads/Constructer_parquet/pitstop\").saveAsTable(\"pistop\")"
   ]
  },
  {
   "cell_type": "code",
   "execution_count": 62,
   "id": "1ccfe1e6",
   "metadata": {},
   "outputs": [
    {
     "name": "stdout",
     "output_type": "stream",
     "text": [
      "+--------+--------+---+------------+------+----+--------+\n",
      "|driverId|duration|lap|milliseconds|raceId|stop|    time|\n",
      "+--------+--------+---+------------+------+----+--------+\n",
      "|     153|  26.898|  1|       26898|   841|   1|17:05:23|\n",
      "|      30|  25.021|  1|       25021|   841|   1|17:05:52|\n",
      "|      17|  23.426| 11|       23426|   841|   1|17:20:48|\n",
      "|       4|  23.251| 12|       23251|   841|   1|17:22:34|\n",
      "|      13|  23.842| 13|       23842|   841|   1|17:24:10|\n",
      "|      22|  23.643| 13|       23643|   841|   1|17:24:29|\n",
      "|      20|  22.603| 14|       22603|   841|   1|17:25:17|\n",
      "|     814|  24.863| 14|       24863|   841|   1|17:26:03|\n",
      "|     816|  25.259| 14|       25259|   841|   1|17:26:50|\n",
      "|      67|  25.342| 15|       25342|   841|   1|17:27:34|\n",
      "|       2|  22.994| 15|       22994|   841|   1|17:27:41|\n",
      "|       1|  23.227| 16|       23227|   841|   1|17:28:24|\n",
      "|     808|  24.535| 16|       24535|   841|   1|17:28:39|\n",
      "|       3|  23.716| 16|       23716|   841|   1|17:29:00|\n",
      "|     155|  24.064| 16|       24064|   841|   1|17:29:06|\n",
      "|      16|  25.978| 16|       25978|   841|   1|17:29:08|\n",
      "|      15|  24.899| 16|       24899|   841|   1|17:29:49|\n",
      "|      18|  16.867| 17|       16867|   841|   1|17:30:24|\n",
      "|     153|  24.463| 17|       24463|   841|   2|17:31:06|\n",
      "|       5|  24.865| 17|       24865|   841|   1|17:31:11|\n",
      "+--------+--------+---+------------+------+----+--------+\n",
      "only showing top 20 rows\n",
      "\n"
     ]
    }
   ],
   "source": [
    "spark.sql(\"select * from pistop\").show()"
   ]
  },
  {
   "cell_type": "code",
   "execution_count": 63,
   "id": "6196624f",
   "metadata": {},
   "outputs": [
    {
     "name": "stdout",
     "output_type": "stream",
     "text": [
      "+--------+--------+---+------------+------+----+--------+\n",
      "|driverId|duration|lap|milliseconds|raceId|stop|    time|\n",
      "+--------+--------+---+------------+------+----+--------+\n",
      "|     153|  26.898|  1|       26898|   841|   1|17:05:23|\n",
      "|      30|  25.021|  1|       25021|   841|   1|17:05:52|\n",
      "|      17|  23.426| 11|       23426|   841|   1|17:20:48|\n",
      "|       4|  23.251| 12|       23251|   841|   1|17:22:34|\n",
      "|      13|  23.842| 13|       23842|   841|   1|17:24:10|\n",
      "|      22|  23.643| 13|       23643|   841|   1|17:24:29|\n",
      "|      20|  22.603| 14|       22603|   841|   1|17:25:17|\n",
      "|     814|  24.863| 14|       24863|   841|   1|17:26:03|\n",
      "|     816|  25.259| 14|       25259|   841|   1|17:26:50|\n",
      "|      67|  25.342| 15|       25342|   841|   1|17:27:34|\n",
      "|       2|  22.994| 15|       22994|   841|   1|17:27:41|\n",
      "|       1|  23.227| 16|       23227|   841|   1|17:28:24|\n",
      "|     808|  24.535| 16|       24535|   841|   1|17:28:39|\n",
      "|       3|  23.716| 16|       23716|   841|   1|17:29:00|\n",
      "|     155|  24.064| 16|       24064|   841|   1|17:29:06|\n",
      "|      16|  25.978| 16|       25978|   841|   1|17:29:08|\n",
      "|      15|  24.899| 16|       24899|   841|   1|17:29:49|\n",
      "|      18|  16.867| 17|       16867|   841|   1|17:30:24|\n",
      "|     153|  24.463| 17|       24463|   841|   2|17:31:06|\n",
      "|       5|  24.865| 17|       24865|   841|   1|17:31:11|\n",
      "+--------+--------+---+------------+------+----+--------+\n",
      "only showing top 20 rows\n",
      "\n"
     ]
    }
   ],
   "source": [
    "df=spark.read.parquet(\"/home/labuser/Downloads/Constructer_parquet/pitstop\").show()"
   ]
  },
  {
   "cell_type": "code",
   "execution_count": null,
   "id": "9ece5933",
   "metadata": {},
   "outputs": [],
   "source": []
  }
 ],
 "metadata": {
  "kernelspec": {
   "display_name": "Python 3 (ipykernel)",
   "language": "python",
   "name": "python3"
  },
  "language_info": {
   "codemirror_mode": {
    "name": "ipython",
    "version": 3
   },
   "file_extension": ".py",
   "mimetype": "text/x-python",
   "name": "python",
   "nbconvert_exporter": "python",
   "pygments_lexer": "ipython3",
   "version": "3.11.4"
  }
 },
 "nbformat": 4,
 "nbformat_minor": 5
}
