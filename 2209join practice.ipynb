{
 "cells": [
  {
   "cell_type": "code",
   "execution_count": 1,
   "id": "1da1eb51",
   "metadata": {},
   "outputs": [
    {
     "name": "stderr",
     "output_type": "stream",
     "text": [
      "Setting default log level to \"WARN\".\n",
      "To adjust logging level use sc.setLogLevel(newLevel). For SparkR, use setLogLevel(newLevel).\n",
      "23/09/22 08:16:22 WARN NativeCodeLoader: Unable to load native-hadoop library for your platform... using builtin-java classes where applicable\n"
     ]
    }
   ],
   "source": [
    "import findspark\n",
    "findspark.init()\n",
    "from pyspark.sql import SparkSession\n",
    "spark=SparkSession.builder.appName(\"example\").getOrCreate()"
   ]
  },
  {
   "cell_type": "code",
   "execution_count": 2,
   "id": "e58cbaff",
   "metadata": {},
   "outputs": [],
   "source": [
    "input_files=\"/home/labuser/Downloads/\""
   ]
  },
  {
   "cell_type": "code",
   "execution_count": 3,
   "id": "aa266b94",
   "metadata": {},
   "outputs": [
    {
     "name": "stderr",
     "output_type": "stream",
     "text": [
      "                                                                                \r"
     ]
    }
   ],
   "source": [
    "df_sales=spark.read.csv(f\"{input_files}/sales_data.csv\")"
   ]
  },
  {
   "cell_type": "code",
   "execution_count": 4,
   "id": "1e97d785",
   "metadata": {},
   "outputs": [],
   "source": [
    "df_product=spark.read.csv(f\"{input_files}/product_data.csv\")"
   ]
  },
  {
   "cell_type": "code",
   "execution_count": 5,
   "id": "12c27114",
   "metadata": {},
   "outputs": [
    {
     "name": "stdout",
     "output_type": "stream",
     "text": [
      "+--------------+----------+-----------+-------------+-------------------+\n",
      "|           _c0|       _c1|        _c2|          _c3|                _c4|\n",
      "+--------------+----------+-----------+-------------+-------------------+\n",
      "|transaction_id|product_id|customer_id|quantity_sold|          timestamp|\n",
      "|             1|       101|        201|            5|2023-09-22 10:15:00|\n",
      "|             2|       102|        202|            3|2023-09-22 11:30:00|\n",
      "|             3|       101|        203|            2|2023-09-22 12:45:00|\n",
      "|             4|       103|        204|            1|2023-09-22 14:00:00|\n",
      "|             5|       102|        205|            4|2023-09-22 15:15:00|\n",
      "+--------------+----------+-----------+-------------+-------------------+\n",
      "\n"
     ]
    }
   ],
   "source": [
    "df_sales.show()"
   ]
  },
  {
   "cell_type": "code",
   "execution_count": 8,
   "id": "4dfa1284",
   "metadata": {},
   "outputs": [
    {
     "name": "stdout",
     "output_type": "stream",
     "text": [
      "+----------+------------+-----------+-----+\n",
      "|       _c0|         _c1|        _c2|  _c3|\n",
      "+----------+------------+-----------+-----+\n",
      "|product_id|product_name|   category|price|\n",
      "|       101|      Laptop|Electronics|  800|\n",
      "|       102|  Smartphone|Electronics|  600|\n",
      "|       103|        Desk|  Furniture|  250|\n",
      "|       104|  Headphones|Electronics|  100|\n",
      "|       105|       Chair|  Furniture|  150|\n",
      "+----------+------------+-----------+-----+\n",
      "\n"
     ]
    }
   ],
   "source": [
    "df_product.show()"
   ]
  },
  {
   "cell_type": "code",
   "execution_count": 7,
   "id": "aef751f6",
   "metadata": {},
   "outputs": [],
   "source": [
    "df_sales=spark.read.option(\"header\",True).option(\"iferschema\",True).csv(f\"{input_files}/sales_data.csv\")"
   ]
  },
  {
   "cell_type": "code",
   "execution_count": 9,
   "id": "8e527158",
   "metadata": {},
   "outputs": [],
   "source": [
    "df_product=spark.read.option(\"header\",True).option(\"iferschema\",True).csv(f\"{input_files}/product_data.csv\")"
   ]
  },
  {
   "cell_type": "code",
   "execution_count": 10,
   "id": "87fe2273",
   "metadata": {},
   "outputs": [
    {
     "name": "stdout",
     "output_type": "stream",
     "text": [
      "+--------------+----------+-----------+-------------+-------------------+----------+------------+-----------+-----+\n",
      "|transaction_id|product_id|customer_id|quantity_sold|          timestamp|product_id|product_name|   category|price|\n",
      "+--------------+----------+-----------+-------------+-------------------+----------+------------+-----------+-----+\n",
      "|             1|       101|        201|            5|2023-09-22 10:15:00|       101|      Laptop|Electronics|  800|\n",
      "|             2|       102|        202|            3|2023-09-22 11:30:00|       102|  Smartphone|Electronics|  600|\n",
      "|             3|       101|        203|            2|2023-09-22 12:45:00|       101|      Laptop|Electronics|  800|\n",
      "|             4|       103|        204|            1|2023-09-22 14:00:00|       103|        Desk|  Furniture|  250|\n",
      "|             5|       102|        205|            4|2023-09-22 15:15:00|       102|  Smartphone|Electronics|  600|\n",
      "+--------------+----------+-----------+-------------+-------------------+----------+------------+-----------+-----+\n",
      "\n"
     ]
    }
   ],
   "source": [
    "df = df_sales.join(df_product, df_sales.product_id==df_product.product_id, \"inner\")\n",
    "df.show()"
   ]
  },
  {
   "cell_type": "code",
   "execution_count": 12,
   "id": "d9f0257b",
   "metadata": {},
   "outputs": [
    {
     "name": "stdout",
     "output_type": "stream",
     "text": [
      "+-------------+-----------+\n",
      "|quantity_sold|   category|\n",
      "+-------------+-----------+\n",
      "|            5|Electronics|\n",
      "|            3|Electronics|\n",
      "|            2|Electronics|\n",
      "|            1|  Furniture|\n",
      "|            4|Electronics|\n",
      "+-------------+-----------+\n",
      "\n"
     ]
    }
   ],
   "source": [
    "df.select(df_sales.quantity_sold, df_product.category).show()#this is spark sql"
   ]
  },
  {
   "cell_type": "code",
   "execution_count": 13,
   "id": "e4ce194d",
   "metadata": {},
   "outputs": [
    {
     "name": "stdout",
     "output_type": "stream",
     "text": [
      "+--------------+----------+-----------+-------------+-------------------+----------+------------+-----------+-----+\n",
      "|transaction_id|product_id|customer_id|quantity_sold|          timestamp|product_id|product_name|   category|price|\n",
      "+--------------+----------+-----------+-------------+-------------------+----------+------------+-----------+-----+\n",
      "|             1|       101|        201|            5|2023-09-22 10:15:00|       101|      Laptop|Electronics|  800|\n",
      "+--------------+----------+-----------+-------------+-------------------+----------+------------+-----------+-----+\n",
      "\n"
     ]
    }
   ],
   "source": [
    "df.filter(\"transaction_id=1\").show()"
   ]
  },
  {
   "cell_type": "code",
   "execution_count": 15,
   "id": "c9928745",
   "metadata": {},
   "outputs": [
    {
     "name": "stdout",
     "output_type": "stream",
     "text": [
      "+--------------+----------+-----------+-------------+-------------------+----------+------------+-----------+-----+\n",
      "|transaction_id|product_id|customer_id|quantity_sold|          timestamp|product_id|product_name|   category|price|\n",
      "+--------------+----------+-----------+-------------+-------------------+----------+------------+-----------+-----+\n",
      "|             1|       101|        201|            5|2023-09-22 10:15:00|       101|      Laptop|Electronics|  800|\n",
      "+--------------+----------+-----------+-------------+-------------------+----------+------------+-----------+-----+\n",
      "\n"
     ]
    }
   ],
   "source": [
    "df.where(\"transaction_id=1\").show()"
   ]
  },
  {
   "cell_type": "code",
   "execution_count": 16,
   "id": "14f6dbe0",
   "metadata": {},
   "outputs": [],
   "source": [
    "from pyspark.sql.functions import*"
   ]
  },
  {
   "cell_type": "code",
   "execution_count": 17,
   "id": "991a1b20",
   "metadata": {},
   "outputs": [
    {
     "name": "stdout",
     "output_type": "stream",
     "text": [
      "+--------------+----------+-----------+-------------+-------------------+----------+------------+-----------+-----+\n",
      "|transaction_id|product_id|customer_id|quantity_sold|          timestamp|product_id|product_name|   category|price|\n",
      "+--------------+----------+-----------+-------------+-------------------+----------+------------+-----------+-----+\n",
      "|             1|       101|        201|            5|2023-09-22 10:15:00|       101|      Laptop|Electronics|  800|\n",
      "+--------------+----------+-----------+-------------+-------------------+----------+------------+-----------+-----+\n",
      "\n"
     ]
    }
   ],
   "source": [
    "df.where(col(\"transaction_id\")==1).show()"
   ]
  },
  {
   "cell_type": "code",
   "execution_count": 18,
   "id": "1832a773",
   "metadata": {},
   "outputs": [],
   "source": [
    "employees = [(1, \"Scott\", \"Tiger\", 1000.0, \n",
    "                      \"united states\", \"+1 123 456 7890\", \"123 45 6789\"\n",
    "                     ),\n",
    "                     (2, \"Henry\", \"Ford\", 1250.0, \n",
    "                      \"India\", \"+91 234 567 8901\", \"456 78 9123\"\n",
    "                     ),\n",
    "                     (3, \"Nick\", \"Junior\", 750.0, \n",
    "                      \"united KINGDOM\", \"+44 111 111 1111\", \"222 33 4444\"\n",
    "                     ),\n",
    "                     (4, \"Bill\", \"Gomes\", 1500.0, \n",
    "                      \"AUSTRALIA\", \"+61 987 654 3210\", \"789 12 6118\"\n",
    "                     )\n",
    "                ]"
   ]
  },
  {
   "cell_type": "code",
   "execution_count": 19,
   "id": "c8585ec6",
   "metadata": {},
   "outputs": [],
   "source": [
    "employeesDF = spark. \\\n",
    "    createDataFrame(employees,\n",
    "                    schema=\"\"\"employee_id INT, first_name STRING, \n",
    "                    last_name STRING, salary FLOAT, nationality STRING,\n",
    "                    phone_number STRING, ssn STRING\"\"\"\n",
    "                   )"
   ]
  },
  {
   "cell_type": "code",
   "execution_count": 20,
   "id": "cdb44207",
   "metadata": {},
   "outputs": [
    {
     "name": "stderr",
     "output_type": "stream",
     "text": [
      "                                                                                \r"
     ]
    },
    {
     "name": "stdout",
     "output_type": "stream",
     "text": [
      "+-----------+----------+---------+------+--------------+----------------+-----------+\n",
      "|employee_id|first_name|last_name|salary|   nationality|    phone_number|        ssn|\n",
      "+-----------+----------+---------+------+--------------+----------------+-----------+\n",
      "|          1|     Scott|    Tiger|1000.0| united states| +1 123 456 7890|123 45 6789|\n",
      "|          2|     Henry|     Ford|1250.0|         India|+91 234 567 8901|456 78 9123|\n",
      "|          3|      Nick|   Junior| 750.0|united KINGDOM|+44 111 111 1111|222 33 4444|\n",
      "|          4|      Bill|    Gomes|1500.0|     AUSTRALIA|+61 987 654 3210|789 12 6118|\n",
      "+-----------+----------+---------+------+--------------+----------------+-----------+\n",
      "\n"
     ]
    }
   ],
   "source": [
    "employeesDF.show()"
   ]
  },
  {
   "cell_type": "code",
   "execution_count": 21,
   "id": "cb1b1f0c",
   "metadata": {},
   "outputs": [
    {
     "name": "stdout",
     "output_type": "stream",
     "text": [
      "+------------------+\n",
      "|upper(nationality)|\n",
      "+------------------+\n",
      "|     UNITED STATES|\n",
      "|             INDIA|\n",
      "|    UNITED KINGDOM|\n",
      "|         AUSTRALIA|\n",
      "+------------------+\n",
      "\n"
     ]
    }
   ],
   "source": [
    "employeesDF.select(upper(\"nationality\")).show()"
   ]
  },
  {
   "cell_type": "code",
   "execution_count": 28,
   "id": "9809d2e6",
   "metadata": {},
   "outputs": [
    {
     "name": "stdout",
     "output_type": "stream",
     "text": [
      "+-----------+----------+---------+------+--------------+----------------+-----------+------------+------------+---------+\n",
      "|employee_id|first_name|last_name|salary|   nationality|    phone_number|        ssn|ssn_lastFour|country_code|area_code|\n",
      "+-----------+----------+---------+------+--------------+----------------+-----------+------------+------------+---------+\n",
      "|          1|     Scott|    Tiger|1000.0| united states| +1 123 456 7890|123 45 6789|        6789|          +1|      123|\n",
      "|          2|     Henry|     Ford|1250.0|         India|+91 234 567 8901|456 78 9123|        9123|         +91|      234|\n",
      "|          3|      Nick|   Junior| 750.0|united KINGDOM|+44 111 111 1111|222 33 4444|        4444|         +44|      111|\n",
      "|          4|      Bill|    Gomes|1500.0|     AUSTRALIA|+61 987 654 3210|789 12 6118|        6118|         +61|      987|\n",
      "+-----------+----------+---------+------+--------------+----------------+-----------+------------+------------+---------+\n",
      "\n"
     ]
    }
   ],
   "source": [
    "employeesDF = employeesDF.withColumn(\"ssn_lastFour\",split(\"ssn\",\" \")[2]).withColumn(\"country_code\",split(\"phone_number\",\" \")[0]).withColumn(\"area_code\",split(\"phone_number\",\" \")[1])\n",
    "\n",
    " \n",
    "\n",
    "employeesDF.show()"
   ]
  },
  {
   "cell_type": "code",
   "execution_count": 30,
   "id": "1847bd96",
   "metadata": {},
   "outputs": [
    {
     "name": "stdout",
     "output_type": "stream",
     "text": [
      "+-----------+----------+---------+------+--------------+----------------+-----------+------------+------------+---------+\n",
      "|employee_id|first_name|last_name|salary|nationality   |phone_number    |ssn        |ssn_lastFour|country_code|area_code|\n",
      "+-----------+----------+---------+------+--------------+----------------+-----------+------------+------------+---------+\n",
      "|1          |Scott     |Tiger    |1000.0|united states |+1 123 456 7890 |123 45 6789|6789        |+1          |123      |\n",
      "|2          |Henry     |Ford     |1250.0|India         |+91 234 567 8901|456 78 9123|9123        |+91         |234      |\n",
      "|3          |Nick      |Junior   |750.0 |united KINGDOM|+44 111 111 1111|222 33 4444|4444        |+44         |111      |\n",
      "|4          |Bill      |Gomes    |1500.0|AUSTRALIA     |+61 987 654 3210|789 12 6118|6118        |+61         |987      |\n",
      "+-----------+----------+---------+------+--------------+----------------+-----------+------------+------------+---------+\n",
      "\n"
     ]
    }
   ],
   "source": [
    "employeesDF.show(truncate=False)#truncate removes white spaces"
   ]
  },
  {
   "cell_type": "code",
   "execution_count": 31,
   "id": "aedd07e2",
   "metadata": {},
   "outputs": [
    {
     "name": "stdout",
     "output_type": "stream",
     "text": [
      "+-----------+----------+---------+------+--------------+----------------+-----------+------------+------------+---------+---------+\n",
      "|employee_id|first_name|last_name|salary|   nationality|    phone_number|        ssn|ssn_lastFour|country_code|area_code|ssn_last4|\n",
      "+-----------+----------+---------+------+--------------+----------------+-----------+------------+------------+---------+---------+\n",
      "|          1|     Scott|    Tiger|1000.0| UNITED STATES| +1 123 456 7890|123 45 6789|        6789|           1|      123|     6789|\n",
      "|          2|     Henry|     Ford|1250.0|         INDIA|+91 234 567 8901|456 78 9123|        9123|          91|      234|     9123|\n",
      "|          3|      Nick|   Junior| 750.0|UNITED KINGDOM|+44 111 111 1111|222 33 4444|        4444|          44|      111|     4444|\n",
      "|          4|      Bill|    Gomes|1500.0|     AUSTRALIA|+61 987 654 3210|789 12 6118|        6118|          61|      987|     6118|\n",
      "+-----------+----------+---------+------+--------------+----------------+-----------+------------+------------+---------+---------+\n",
      "\n"
     ]
    }
   ],
   "source": [
    "employeesDF. \\\n",
    "    withColumn(\"nationality\",upper(\"nationality\")).\\\n",
    "    withColumn(\"ssn_last4\", substring(col(\"ssn\"), -4, 4).cast(\"int\")).\\\n",
    "    withColumn(\"country_code\", split(\"phone_number\", \" \")[0].cast(\"int\")).\\\n",
    "    withColumn(\"area_code\", split(\"phone_number\", \" \")[1].cast(\"int\")).\\\n",
    "    show()"
   ]
  },
  {
   "cell_type": "code",
   "execution_count": 32,
   "id": "32bf3fa2",
   "metadata": {},
   "outputs": [
    {
     "data": {
      "text/html": [
       "\n",
       "            <div>\n",
       "                <p><b>SparkSession - in-memory</b></p>\n",
       "                \n",
       "        <div>\n",
       "            <p><b>SparkContext</b></p>\n",
       "\n",
       "            <p><a href=\"http://ip-172-31-12-47.ap-south-1.compute.internal:4040\">Spark UI</a></p>\n",
       "\n",
       "            <dl>\n",
       "              <dt>Version</dt>\n",
       "                <dd><code>v3.4.1</code></dd>\n",
       "              <dt>Master</dt>\n",
       "                <dd><code>local[*]</code></dd>\n",
       "              <dt>AppName</dt>\n",
       "                <dd><code>example</code></dd>\n",
       "            </dl>\n",
       "        </div>\n",
       "        \n",
       "            </div>\n",
       "        "
      ],
      "text/plain": [
       "<pyspark.sql.session.SparkSession at 0x7fa8b06b1850>"
      ]
     },
     "execution_count": 32,
     "metadata": {},
     "output_type": "execute_result"
    }
   ],
   "source": [
    "spark"
   ]
  },
  {
   "cell_type": "code",
   "execution_count": null,
   "id": "266f915b",
   "metadata": {},
   "outputs": [],
   "source": []
  }
 ],
 "metadata": {
  "kernelspec": {
   "display_name": "Python 3 (ipykernel)",
   "language": "python",
   "name": "python3"
  },
  "language_info": {
   "codemirror_mode": {
    "name": "ipython",
    "version": 3
   },
   "file_extension": ".py",
   "mimetype": "text/x-python",
   "name": "python",
   "nbconvert_exporter": "python",
   "pygments_lexer": "ipython3",
   "version": "3.11.4"
  }
 },
 "nbformat": 4,
 "nbformat_minor": 5
}
